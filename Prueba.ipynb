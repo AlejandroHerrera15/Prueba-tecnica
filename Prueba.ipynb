{
 "cells": [
  {
   "cell_type": "markdown",
   "metadata": {},
   "source": [
    "# Prueba técnica"
   ]
  },
  {
   "cell_type": "code",
   "execution_count": 1,
   "metadata": {},
   "outputs": [],
   "source": [
    "import pandas as pd"
   ]
  },
  {
   "cell_type": "code",
   "execution_count": 8,
   "metadata": {},
   "outputs": [
    {
     "data": {
      "text/html": [
       "<div>\n",
       "<style scoped>\n",
       "    .dataframe tbody tr th:only-of-type {\n",
       "        vertical-align: middle;\n",
       "    }\n",
       "\n",
       "    .dataframe tbody tr th {\n",
       "        vertical-align: top;\n",
       "    }\n",
       "\n",
       "    .dataframe thead th {\n",
       "        text-align: right;\n",
       "    }\n",
       "</style>\n",
       "<table border=\"1\" class=\"dataframe\">\n",
       "  <thead>\n",
       "    <tr style=\"text-align: right;\">\n",
       "      <th></th>\n",
       "      <th>ID_Venta</th>\n",
       "      <th>Fecha</th>\n",
       "      <th>Producto</th>\n",
       "      <th>Cantidad</th>\n",
       "      <th>Precio_Unitario</th>\n",
       "      <th>Total_Venta</th>\n",
       "      <th>Vendedor</th>\n",
       "      <th>ID_Cruce</th>\n",
       "    </tr>\n",
       "  </thead>\n",
       "  <tbody>\n",
       "    <tr>\n",
       "      <th>0</th>\n",
       "      <td>1</td>\n",
       "      <td>2023-06-02</td>\n",
       "      <td>Monitor</td>\n",
       "      <td>3</td>\n",
       "      <td>669</td>\n",
       "      <td>2007.0</td>\n",
       "      <td>Elena</td>\n",
       "      <td>101</td>\n",
       "    </tr>\n",
       "    <tr>\n",
       "      <th>1</th>\n",
       "      <td>2</td>\n",
       "      <td>2023-12-16</td>\n",
       "      <td>Celular</td>\n",
       "      <td>3</td>\n",
       "      <td>172</td>\n",
       "      <td>516.0</td>\n",
       "      <td>Ana</td>\n",
       "      <td>102</td>\n",
       "    </tr>\n",
       "    <tr>\n",
       "      <th>2</th>\n",
       "      <td>3</td>\n",
       "      <td>2023-03-02</td>\n",
       "      <td>Monitor</td>\n",
       "      <td>5</td>\n",
       "      <td>765</td>\n",
       "      <td>3825.0</td>\n",
       "      <td>Elena</td>\n",
       "      <td>103</td>\n",
       "    </tr>\n",
       "    <tr>\n",
       "      <th>3</th>\n",
       "      <td>4</td>\n",
       "      <td>2023-03-19</td>\n",
       "      <td>Laptop</td>\n",
       "      <td>4</td>\n",
       "      <td>303</td>\n",
       "      <td>1212.0</td>\n",
       "      <td>Carlos</td>\n",
       "      <td>104</td>\n",
       "    </tr>\n",
       "    <tr>\n",
       "      <th>4</th>\n",
       "      <td>5</td>\n",
       "      <td>2023-01-24</td>\n",
       "      <td>Impresora</td>\n",
       "      <td>8</td>\n",
       "      <td>644</td>\n",
       "      <td>NaN</td>\n",
       "      <td>David</td>\n",
       "      <td>105</td>\n",
       "    </tr>\n",
       "    <tr>\n",
       "      <th>...</th>\n",
       "      <td>...</td>\n",
       "      <td>...</td>\n",
       "      <td>...</td>\n",
       "      <td>...</td>\n",
       "      <td>...</td>\n",
       "      <td>...</td>\n",
       "      <td>...</td>\n",
       "      <td>...</td>\n",
       "    </tr>\n",
       "    <tr>\n",
       "      <th>95</th>\n",
       "      <td>96</td>\n",
       "      <td>2023-08-15</td>\n",
       "      <td>Monitor</td>\n",
       "      <td>7</td>\n",
       "      <td>138</td>\n",
       "      <td>966.0</td>\n",
       "      <td>Beatriz</td>\n",
       "      <td>196</td>\n",
       "    </tr>\n",
       "    <tr>\n",
       "      <th>96</th>\n",
       "      <td>97</td>\n",
       "      <td>2023-04-07</td>\n",
       "      <td>Laptop</td>\n",
       "      <td>10</td>\n",
       "      <td>222</td>\n",
       "      <td>2220.0</td>\n",
       "      <td>Beatriz</td>\n",
       "      <td>197</td>\n",
       "    </tr>\n",
       "    <tr>\n",
       "      <th>97</th>\n",
       "      <td>98</td>\n",
       "      <td>2023-07-11</td>\n",
       "      <td>Celular</td>\n",
       "      <td>9</td>\n",
       "      <td>1306</td>\n",
       "      <td>11754.0</td>\n",
       "      <td>Ana</td>\n",
       "      <td>198</td>\n",
       "    </tr>\n",
       "    <tr>\n",
       "      <th>98</th>\n",
       "      <td>99</td>\n",
       "      <td>2023-12-21</td>\n",
       "      <td>Laptop</td>\n",
       "      <td>4</td>\n",
       "      <td>1885</td>\n",
       "      <td>7540.0</td>\n",
       "      <td>Carlos</td>\n",
       "      <td>199</td>\n",
       "    </tr>\n",
       "    <tr>\n",
       "      <th>99</th>\n",
       "      <td>100</td>\n",
       "      <td>2023-01-27</td>\n",
       "      <td>Tablet</td>\n",
       "      <td>8</td>\n",
       "      <td>1371</td>\n",
       "      <td>10968.0</td>\n",
       "      <td>Carlos</td>\n",
       "      <td>200</td>\n",
       "    </tr>\n",
       "  </tbody>\n",
       "</table>\n",
       "<p>100 rows × 8 columns</p>\n",
       "</div>"
      ],
      "text/plain": [
       "    ID_Venta       Fecha   Producto  Cantidad  Precio_Unitario  Total_Venta  \\\n",
       "0          1  2023-06-02    Monitor         3              669       2007.0   \n",
       "1          2  2023-12-16    Celular         3              172        516.0   \n",
       "2          3  2023-03-02    Monitor         5              765       3825.0   \n",
       "3          4  2023-03-19     Laptop         4              303       1212.0   \n",
       "4          5  2023-01-24  Impresora         8              644          NaN   \n",
       "..       ...         ...        ...       ...              ...          ...   \n",
       "95        96  2023-08-15    Monitor         7              138        966.0   \n",
       "96        97  2023-04-07     Laptop        10              222       2220.0   \n",
       "97        98  2023-07-11    Celular         9             1306      11754.0   \n",
       "98        99  2023-12-21     Laptop         4             1885       7540.0   \n",
       "99       100  2023-01-27     Tablet         8             1371      10968.0   \n",
       "\n",
       "   Vendedor  ID_Cruce  \n",
       "0     Elena       101  \n",
       "1       Ana       102  \n",
       "2     Elena       103  \n",
       "3    Carlos       104  \n",
       "4     David       105  \n",
       "..      ...       ...  \n",
       "95  Beatriz       196  \n",
       "96  Beatriz       197  \n",
       "97      Ana       198  \n",
       "98   Carlos       199  \n",
       "99   Carlos       200  \n",
       "\n",
       "[100 rows x 8 columns]"
      ]
     },
     "execution_count": 8,
     "metadata": {},
     "output_type": "execute_result"
    }
   ],
   "source": [
    "# Cargar tabla\n",
    "url = 'https://raw.githubusercontent.com/AlejandroHerrera15/Prueba-tecnica/main/datos_ventas.xlsx'\n",
    "tabla = pd.read_excel(url)\n",
    "tabla"
   ]
  },
  {
   "cell_type": "code",
   "execution_count": 15,
   "metadata": {},
   "outputs": [
    {
     "name": "stdout",
     "output_type": "stream",
     "text": [
      "<class 'pandas.core.frame.DataFrame'>\n",
      "RangeIndex: 100 entries, 0 to 99\n",
      "Data columns (total 8 columns):\n",
      " #   Column           Non-Null Count  Dtype  \n",
      "---  ------           --------------  -----  \n",
      " 0   ID_Venta         100 non-null    int64  \n",
      " 1   Fecha            100 non-null    object \n",
      " 2   Producto         100 non-null    object \n",
      " 3   Cantidad         100 non-null    int64  \n",
      " 4   Precio_Unitario  100 non-null    int64  \n",
      " 5   Total_Venta      75 non-null     float64\n",
      " 6   Vendedor         100 non-null    object \n",
      " 7   ID_Cruce         100 non-null    int64  \n",
      "dtypes: float64(1), int64(4), object(3)\n",
      "memory usage: 6.4+ KB\n"
     ]
    },
    {
     "data": {
      "text/plain": [
       "ID_Venta            0\n",
       "Fecha               0\n",
       "Producto            0\n",
       "Cantidad            0\n",
       "Precio_Unitario     0\n",
       "Total_Venta        25\n",
       "Vendedor            0\n",
       "ID_Cruce            0\n",
       "dtype: int64"
      ]
     },
     "execution_count": 15,
     "metadata": {},
     "output_type": "execute_result"
    }
   ],
   "source": [
    "# Exploración\n",
    "tabla.info()\n",
    "tabla.isnull().sum()"
   ]
  },
  {
   "cell_type": "markdown",
   "metadata": {},
   "source": [
    "La tabla cuenta con 25 datos nulos en la variable Total_Venta, la variable fecha no está en formato datetime"
   ]
  },
  {
   "cell_type": "code",
   "execution_count": null,
   "metadata": {},
   "outputs": [
    {
     "name": "stdout",
     "output_type": "stream",
     "text": [
      "<class 'pandas.core.frame.DataFrame'>\n",
      "RangeIndex: 100 entries, 0 to 99\n",
      "Data columns (total 8 columns):\n",
      " #   Column           Non-Null Count  Dtype         \n",
      "---  ------           --------------  -----         \n",
      " 0   ID_Venta         100 non-null    int64         \n",
      " 1   Fecha            100 non-null    datetime64[ns]\n",
      " 2   Producto         100 non-null    object        \n",
      " 3   Cantidad         100 non-null    int64         \n",
      " 4   Precio_Unitario  100 non-null    int64         \n",
      " 5   Total_Venta      100 non-null    float64       \n",
      " 6   Vendedor         100 non-null    object        \n",
      " 7   ID_Cruce         100 non-null    int64         \n",
      "dtypes: datetime64[ns](1), float64(1), int64(4), object(2)\n",
      "memory usage: 6.4+ KB\n"
     ]
    }
   ],
   "source": [
    "#Limpieza y transformación\n",
    "tabla[\"Fecha\"] = pd.to_datetime(tabla[\"Fecha\"])\n",
    "tabla[\"Total_Venta\"] = tabla[\"Total_Venta\"].fillna(tabla[\"Cantidad\"] * tabla[\"Precio_Unitario\"])\n",
    "tabla.info()"
   ]
  },
  {
   "cell_type": "code",
   "execution_count": 24,
   "metadata": {},
   "outputs": [
    {
     "name": "stdout",
     "output_type": "stream",
     "text": [
      "<class 'pandas.core.frame.DataFrame'>\n",
      "RangeIndex: 100 entries, 0 to 99\n",
      "Data columns (total 9 columns):\n",
      " #   Column           Non-Null Count  Dtype         \n",
      "---  ------           --------------  -----         \n",
      " 0   ID_Venta         100 non-null    int64         \n",
      " 1   Fecha            100 non-null    datetime64[ns]\n",
      " 2   Producto         100 non-null    object        \n",
      " 3   Cantidad         100 non-null    int64         \n",
      " 4   Precio_Unitario  100 non-null    int64         \n",
      " 5   Total_Venta      100 non-null    float64       \n",
      " 6   Vendedor         100 non-null    object        \n",
      " 7   ID_Cruce         100 non-null    int64         \n",
      " 8   Mes              100 non-null    int32         \n",
      "dtypes: datetime64[ns](1), float64(1), int32(1), int64(4), object(2)\n",
      "memory usage: 6.8+ KB\n"
     ]
    }
   ],
   "source": [
    "# Filtrado\n",
    "tabla_2023 = tabla[tabla['Fecha'].dt.year==2023]\n",
    "tabla_2023['Mes'] = tabla_2023['Fecha'].dt.month\n",
    "tabla_2023.info()"
   ]
  },
  {
   "cell_type": "code",
   "execution_count": 26,
   "metadata": {},
   "outputs": [
    {
     "name": "stdout",
     "output_type": "stream",
     "text": [
      "  Vendedor  Total_Venta\n",
      "0      Ana     141425.0\n",
      "1  Beatriz     111286.0\n",
      "2   Carlos     130801.0\n",
      "3    David     104820.0\n",
      "4    Elena      85343.0\n",
      "    Mes  Total_Venta\n",
      "0     1      38617.0\n",
      "1     2      79020.0\n",
      "2     3      26514.0\n",
      "3     4      19552.0\n",
      "4     5      33014.0\n",
      "5     6      81217.0\n",
      "6     7      26158.0\n",
      "7     8      73812.0\n",
      "8     9      52082.0\n",
      "9    10      47184.0\n",
      "10   11      46118.0\n",
      "11   12      50387.0\n"
     ]
    }
   ],
   "source": [
    "# Agrupaciones\n",
    "# Total de ventas por vendedor\n",
    "ventas_por_vendedor = tabla_2023.groupby(\"Vendedor\")[\"Total_Venta\"].sum().reset_index()\n",
    "print(ventas_por_vendedor)\n",
    "# Total de ventas por mes\n",
    "ventas_por_mes = tabla_2023.groupby(\"Mes\")[\"Total_Venta\"].sum().reset_index()\n",
    "print(ventas_por_mes)"
   ]
  },
  {
   "cell_type": "code",
   "execution_count": null,
   "metadata": {},
   "outputs": [],
   "source": []
  }
 ],
 "metadata": {
  "kernelspec": {
   "display_name": "Python 3",
   "language": "python",
   "name": "python3"
  },
  "language_info": {
   "codemirror_mode": {
    "name": "ipython",
    "version": 3
   },
   "file_extension": ".py",
   "mimetype": "text/x-python",
   "name": "python",
   "nbconvert_exporter": "python",
   "pygments_lexer": "ipython3",
   "version": "3.11.4"
  }
 },
 "nbformat": 4,
 "nbformat_minor": 2
}
